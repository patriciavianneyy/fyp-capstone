{
 "cells": [
  {
   "cell_type": "code",
   "execution_count": 1,
   "metadata": {},
   "outputs": [],
   "source": [
    "import warnings\n",
    "warnings.filterwarnings(\"ignore\") \n",
    "import os\n",
    "import numpy as np\n",
    "import polars as pl\n",
    "import pandas as pd\n",
    "from sklearn.impute import KNNImputer\n",
    "from sklearn.linear_model import LogisticRegression\n",
    "from sklearn.metrics import roc_auc_score"
   ]
  },
  {
   "cell_type": "code",
   "execution_count": 2,
   "metadata": {},
   "outputs": [],
   "source": [
    "dir = r\"A:\\fyp\\data\\\\\"\n",
    "\n",
    "train_df = pl.read_csv(dir+\"training_dataset.csv\")\n",
    "test_df =pl.read_csv(dir+\"testing_dataset.csv\")\n",
    "demo1112 = pl.from_pandas(pd.read_sas(dir + \"\\\\DEMO_G.XPT\"))\n",
    "demo1314 = pl.from_pandas(pd.read_sas(dir +\"\\\\DEMO_H.XPT\"))"
   ]
  },
  {
   "cell_type": "code",
   "execution_count": 22,
   "metadata": {},
   "outputs": [],
   "source": [
    "def demo_clean(df):\n",
    "    target_col = ['SEQN', 'DMDEDUC2', 'DMDMARTL']\n",
    "    df = df.select(target_col)\n",
    "\n",
    "    replace1 = {77: np.nan, 99: np.nan}\n",
    "    df = df.with_columns(pl.col(['DMDMARTL']).map_dict(replace1, default=pl.first()))\n",
    "\n",
    "    replace2 = {7: np.nan, 9: np.nan}\n",
    "    df = df.with_columns(pl.col(['DMDEDUC2']).map_dict(replace2, default=pl.first()))\n",
    "    return df"
   ]
  },
  {
   "cell_type": "code",
   "execution_count": 48,
   "metadata": {},
   "outputs": [],
   "source": [
    "demo1 = demo_clean(demo1112)\n",
    "demo2 = demo_clean(demo1314)\n",
    "demo_df = demo1.vstack(demo2)\n",
    "\n",
    "imputer = KNNImputer(n_neighbors=1)\n",
    "demo_final = pl.DataFrame(imputer.fit_transform(demo_df), schema = demo_df.columns)\n",
    "demo_final = demo_final.with_columns(demo_final[demo_final.columns].cast(pl.Int64))"
   ]
  },
  {
   "cell_type": "code",
   "execution_count": 50,
   "metadata": {},
   "outputs": [],
   "source": [
    "train_df = train_df.join(demo_final, on=\"SEQN\", how=\"left\")\n",
    "test_df = test_df.join(demo_final, on=\"SEQN\", how=\"left\")"
   ]
  },
  {
   "cell_type": "code",
   "execution_count": 73,
   "metadata": {},
   "outputs": [],
   "source": [
    "def preprocess(df, name = 'func'):\n",
    "    impaired_list = [item for item in train_df.columns if item.startswith('impaired')]\n",
    "    feature_df = df.drop(['SEQN', 'func_score'] + impaired_list)\n",
    "    if name == 'func':\n",
    "        target_df = df.select(pl.col('func_score'))\n",
    "    else:\n",
    "        target_df = df.select(pl.col(impaired_list))\n",
    "    return feature_df, target_df"
   ]
  },
  {
   "cell_type": "code",
   "execution_count": 79,
   "metadata": {},
   "outputs": [],
   "source": [
    "x_train, y_train = preprocess(train_df, 'imp')\n",
    "x_test, y_test = preprocess(test_df, 'imp')"
   ]
  },
  {
   "cell_type": "code",
   "execution_count": 96,
   "metadata": {},
   "outputs": [
    {
     "name": "stdout",
     "output_type": "stream",
     "text": [
      "Target Variable: impaired_1\n",
      "Training AUC: 0.6101\n",
      "Testing AUC: 0.6125\n",
      "\n",
      "Target Variable: impaired_2\n",
      "Training AUC: 0.6563\n",
      "Testing AUC: 0.6791\n",
      "\n",
      "Target Variable: impaired_3\n",
      "Training AUC: 0.7954\n",
      "Testing AUC: 0.6781\n",
      "\n"
     ]
    }
   ],
   "source": [
    "targets = [f'impaired_{i}' for i in range(1, 4)]\n",
    "\n",
    "for target in targets:\n",
    "    # Prepare the data for the target variable\n",
    "    train_y = y_train[target]\n",
    "    test_y = y_test[target]\n",
    "\n",
    "    model = LogisticRegression(penalty=None).fit(x_train, train_y)\n",
    "    train_auc = roc_auc_score(train_y, model.predict_proba(x_train)[:, 1])\n",
    "    test_auc = roc_auc_score(test_y, model.predict_proba(x_test)[:, 1])\n",
    "\n",
    "    # Print the AUC for the current model\n",
    "    print(f\"Target Variable: {target}\")\n",
    "    print(f\"Training AUC: {round(train_auc, 4)}\")\n",
    "    print(f\"Testing AUC: {round(test_auc, 4)}\")\n",
    "    print()"
   ]
  },
  {
   "cell_type": "code",
   "execution_count": null,
   "metadata": {},
   "outputs": [],
   "source": []
  }
 ],
 "metadata": {
  "kernelspec": {
   "display_name": "Python 3",
   "language": "python",
   "name": "python3"
  },
  "language_info": {
   "codemirror_mode": {
    "name": "ipython",
    "version": 3
   },
   "file_extension": ".py",
   "mimetype": "text/x-python",
   "name": "python",
   "nbconvert_exporter": "python",
   "pygments_lexer": "ipython3",
   "version": "3.11.6"
  }
 },
 "nbformat": 4,
 "nbformat_minor": 2
}
