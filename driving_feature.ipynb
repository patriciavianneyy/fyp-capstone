{
 "cells": [
  {
   "cell_type": "code",
   "execution_count": 1,
   "metadata": {},
   "outputs": [],
   "source": [
    "import warnings\n",
    "warnings.filterwarnings(\"ignore\", category=DeprecationWarning) \n",
    "import os\n",
    "import numpy as np\n",
    "np.seterr(divide='ignore', invalid='ignore')\n",
    "import polars as pl\n",
    "from scipy.stats import iqr, entropy"
   ]
  },
  {
   "cell_type": "markdown",
   "metadata": {},
   "source": [
    "# Function"
   ]
  },
  {
   "cell_type": "code",
   "execution_count": 2,
   "metadata": {},
   "outputs": [],
   "source": [
    "def simple_stat(df):\n",
    "    target_col = df.columns[6:10] + df.columns[12:14]\n",
    "\n",
    "    stats_cal = {\n",
    "        'Column': [],\n",
    "        'Mean': [],\n",
    "        'Std Deviation': [],\n",
    "        '25th Quantile': [],\n",
    "        'Median': [],\n",
    "        '75th Quantile': [],\n",
    "        'IQR': [],\n",
    "        'Skewness': [],\n",
    "        'Kurtosis': [],\n",
    "        'Differential Entropy': []\n",
    "    }\n",
    "\n",
    "    for column in target_col:\n",
    "        data = df[column]\n",
    "        stats_cal['Column'].append(column)\n",
    "        stats_cal['Mean'].append(data.mean())\n",
    "        stats_cal['Std Deviation'].append(data.std())\n",
    "        stats_cal['25th Quantile'].append(data.quantile(0.25))\n",
    "        stats_cal['Median'].append(data.median())\n",
    "        stats_cal['75th Quantile'].append(data.quantile(0.75))\n",
    "        stats_cal['IQR'].append(iqr(data))\n",
    "        stats_cal['Skewness'].append(data.skew())\n",
    "        stats_cal['Kurtosis'].append(data.kurtosis())\n",
    "        stats_cal['Differential Entropy'].append(entropy(data))\n",
    "\n",
    "    return pl.DataFrame(stats_cal)"
   ]
  },
  {
   "cell_type": "code",
   "execution_count": 3,
   "metadata": {},
   "outputs": [],
   "source": [
    "def average_stat(df):\n",
    "    target_col = df.columns[6:10] + df.columns[12:14]\n",
    "\n",
    "    df_grouped = df.group_by('PAXDAYWM').agg(\n",
    "        [pl.col(f\"{c}\").mean().alias(f\"{c}_Mean\") for c in target_col]\n",
    "    ).sort('PAXDAYWM')\n",
    "\n",
    "    df_var = df_grouped.std().drop('PAXDAYWM')\n",
    "    df_var.columns = list(map(lambda x: x.replace(\"Mean\", \"Std_across_day\"), df_var.columns))\n",
    "    length_repeat = len(df_grouped)\n",
    "    df_var = df_var.select(pl.exclude('Quantity').repeat_by(length_repeat).explode())\n",
    "    \n",
    "    df_final = df_grouped.hstack(df_var)\n",
    "\n",
    "    return df_final"
   ]
  },
  {
   "cell_type": "code",
   "execution_count": 4,
   "metadata": {},
   "outputs": [],
   "source": [
    "def act_lv(df):\n",
    "    df = df.with_columns(\n",
    "        pl.when(pl.col(\"PAXMTSM\") < 15.9)\n",
    "        .then(\"Sedentary_Activity (minutes)\")\n",
    "        .when((pl.col(\"PAXMTSM\") >= 15.9) & (pl.col(\"PAXMTSM\") <= 19.6))\n",
    "        .then(\"Light_Activity (minutes)\")\n",
    "        .otherwise(\"Moderate_Vigorous_Activity (minutes)\")\n",
    "        .alias(\"ActivityLevel\")\n",
    "    )\n",
    "\n",
    "    dummy = df.group_by(['PAXDAYWM', 'PAXDAYM','ActivityLevel']).agg(\n",
    "        (pl.col('PAXTSM').sum()/60).alias('PAXMTSM_avg_day')\n",
    "    )\n",
    "    \n",
    "    dummy = dummy.group_by(['PAXDAYWM','ActivityLevel']).agg(\n",
    "        (pl.col('PAXMTSM_avg_day').mean()).alias('PAXMTSM_avg_day')\n",
    "    ) \\\n",
    "    .sort('PAXDAYWM') \\\n",
    "    .pivot(values=\"PAXMTSM_avg_day\", index=\"PAXDAYWM\", columns=\"ActivityLevel\", aggregate_function=\"sum\")\n",
    "\n",
    "    return dummy"
   ]
  },
  {
   "cell_type": "markdown",
   "metadata": {},
   "source": [
    "## Variable explain"
   ]
  },
  {
   "cell_type": "code",
   "execution_count": 5,
   "metadata": {},
   "outputs": [],
   "source": [
    "# https://wwwn.cdc.gov/Nchs/Nhanes/2011-2012/PAXMIN_G.htm#Analytic_Notes\n",
    "\n",
    "#PAXDAYM - x th day wear\n",
    "#PAXDAYWM - sun/mon/tue/...?\n",
    "#PAXSSNMP - Starting data point number for the minute summary record (from the 80hz sampled data)\n",
    "#PAXTSM - total second in this minute\n",
    "#PAXAISMM - sleep\n",
    "#PAXPREDM - sleep/wake/non-wear\n",
    "#PAXTRANM  - sleep/wake/non-wear\n",
    "#PAXMTSM - act\n",
    "#PAXMXM - act\n",
    "#PAXMYM - act\n",
    "#PAXMZM - act\n",
    "#PAXLXMM - Ambient light\n",
    "#PAXLXSDM  - Ambient light"
   ]
  },
  {
   "cell_type": "markdown",
   "metadata": {},
   "source": [
    "# Main"
   ]
  },
  {
   "cell_type": "code",
   "execution_count": 6,
   "metadata": {},
   "outputs": [],
   "source": [
    "csv_path = r\"A:\\fyp\\output\\\\\"\n",
    "\n",
    "files = os.listdir(csv_path)\n",
    "csv_files = [f for f in files if f.endswith('.csv')]"
   ]
  },
  {
   "cell_type": "code",
   "execution_count": 7,
   "metadata": {},
   "outputs": [
    {
     "name": "stdout",
     "output_type": "stream",
     "text": [
      "SEQN: 83724.0\n",
      "\n"
     ]
    },
    {
     "data": {
      "text/html": [
       "<div><style>\n",
       ".dataframe > thead > tr > th,\n",
       ".dataframe > tbody > tr > td {\n",
       "  text-align: right;\n",
       "  white-space: pre-wrap;\n",
       "}\n",
       "</style>\n",
       "<small>shape: (6, 10)</small><table border=\"1\" class=\"dataframe\"><thead><tr><th>Column</th><th>Mean</th><th>Std Deviation</th><th>25th Quantile</th><th>Median</th><th>75th Quantile</th><th>IQR</th><th>Skewness</th><th>Kurtosis</th><th>Differential Entropy</th></tr><tr><td>str</td><td>f64</td><td>f64</td><td>f64</td><td>f64</td><td>f64</td><td>f64</td><td>f64</td><td>f64</td><td>f64</td></tr></thead><tbody><tr><td>&quot;PAXMTSM&quot;</td><td>7.203038</td><td>9.210318</td><td>0.0</td><td>2.676</td><td>12.734</td><td>12.734</td><td>1.378154</td><td>1.689278</td><td>8.559735</td></tr><tr><td>&quot;PAXMXM&quot;</td><td>2.337442</td><td>3.000021</td><td>0.0</td><td>0.937</td><td>4.094</td><td>4.094</td><td>1.677668</td><td>4.5117</td><td>8.572121</td></tr><tr><td>&quot;PAXMYM&quot;</td><td>2.209647</td><td>3.06661</td><td>0.0</td><td>0.635</td><td>3.677</td><td>3.677</td><td>2.131912</td><td>10.066621</td><td>8.498193</td></tr><tr><td>&quot;PAXMZM&quot;</td><td>2.655942</td><td>3.432947</td><td>0.0</td><td>0.942</td><td>4.584</td><td>4.584</td><td>1.385171</td><td>1.758142</td><td>8.54484</td></tr><tr><td>&quot;PAXLXMM&quot;</td><td>83.029432</td><td>270.30274</td><td>0.0</td><td>0.0</td><td>33.75</td><td>33.75</td><td>5.18161</td><td>30.551231</td><td>7.381256</td></tr><tr><td>&quot;PAXLXSDM&quot;</td><td>46.493177</td><td>143.302641</td><td>0.0</td><td>0.0</td><td>23.17</td><td>23.17</td><td>4.683475</td><td>23.409549</td><td>7.478779</td></tr></tbody></table></div>"
      ],
      "text/plain": [
       "shape: (6, 10)\n",
       "┌──────────┬───────────┬─────────────┬────────────┬───┬────────┬──────────┬───────────┬────────────┐\n",
       "│ Column   ┆ Mean      ┆ Std         ┆ 25th       ┆ … ┆ IQR    ┆ Skewness ┆ Kurtosis  ┆ Differenti │\n",
       "│ ---      ┆ ---       ┆ Deviation   ┆ Quantile   ┆   ┆ ---    ┆ ---      ┆ ---       ┆ al Entropy │\n",
       "│ str      ┆ f64       ┆ ---         ┆ ---        ┆   ┆ f64    ┆ f64      ┆ f64       ┆ ---        │\n",
       "│          ┆           ┆ f64         ┆ f64        ┆   ┆        ┆          ┆           ┆ f64        │\n",
       "╞══════════╪═══════════╪═════════════╪════════════╪═══╪════════╪══════════╪═══════════╪════════════╡\n",
       "│ PAXMTSM  ┆ 7.203038  ┆ 9.210318    ┆ 0.0        ┆ … ┆ 12.734 ┆ 1.378154 ┆ 1.689278  ┆ 8.559735   │\n",
       "│ PAXMXM   ┆ 2.337442  ┆ 3.000021    ┆ 0.0        ┆ … ┆ 4.094  ┆ 1.677668 ┆ 4.5117    ┆ 8.572121   │\n",
       "│ PAXMYM   ┆ 2.209647  ┆ 3.06661     ┆ 0.0        ┆ … ┆ 3.677  ┆ 2.131912 ┆ 10.066621 ┆ 8.498193   │\n",
       "│ PAXMZM   ┆ 2.655942  ┆ 3.432947    ┆ 0.0        ┆ … ┆ 4.584  ┆ 1.385171 ┆ 1.758142  ┆ 8.54484    │\n",
       "│ PAXLXMM  ┆ 83.029432 ┆ 270.30274   ┆ 0.0        ┆ … ┆ 33.75  ┆ 5.18161  ┆ 30.551231 ┆ 7.381256   │\n",
       "│ PAXLXSDM ┆ 46.493177 ┆ 143.302641  ┆ 0.0        ┆ … ┆ 23.17  ┆ 4.683475 ┆ 23.409549 ┆ 7.478779   │\n",
       "└──────────┴───────────┴─────────────┴────────────┴───┴────────┴──────────┴───────────┴────────────┘"
      ]
     },
     "metadata": {},
     "output_type": "display_data"
    },
    {
     "name": "stdout",
     "output_type": "stream",
     "text": [
      "\n"
     ]
    },
    {
     "data": {
      "text/html": [
       "<div><style>\n",
       ".dataframe > thead > tr > th,\n",
       ".dataframe > tbody > tr > td {\n",
       "  text-align: right;\n",
       "  white-space: pre-wrap;\n",
       "}\n",
       "</style>\n",
       "<small>shape: (7, 16)</small><table border=\"1\" class=\"dataframe\"><thead><tr><th>PAXDAYWM</th><th>PAXMTSM_Mean</th><th>PAXMXM_Mean</th><th>PAXMYM_Mean</th><th>PAXMZM_Mean</th><th>PAXLXMM_Mean</th><th>PAXLXSDM_Mean</th><th>PAXMTSM_Std_across_day</th><th>PAXMXM_Std_across_day</th><th>PAXMYM_Std_across_day</th><th>PAXMZM_Std_across_day</th><th>PAXLXMM_Std_across_day</th><th>PAXLXSDM_Std_across_day</th><th>Sedentary_Activity (minutes)</th><th>Light_Activity (minutes)</th><th>Moderate_Vigorous_Activity (minutes)</th></tr><tr><td>i64</td><td>f64</td><td>f64</td><td>f64</td><td>f64</td><td>f64</td><td>f64</td><td>f64</td><td>f64</td><td>f64</td><td>f64</td><td>f64</td><td>f64</td><td>f64</td><td>f64</td><td>f64</td></tr></thead><tbody><tr><td>1</td><td>7.041083</td><td>2.259839</td><td>2.116431</td><td>2.664817</td><td>73.456507</td><td>47.639868</td><td>0.73227</td><td>0.220978</td><td>0.240379</td><td>0.275125</td><td>32.260094</td><td>16.391827</td><td>1192.0</td><td>85.0</td><td>163.0</td></tr><tr><td>2</td><td>7.715472</td><td>2.495824</td><td>2.389937</td><td>2.829713</td><td>117.034785</td><td>62.94725</td><td>0.73227</td><td>0.220978</td><td>0.240379</td><td>0.275125</td><td>32.260094</td><td>16.391827</td><td>1151.0</td><td>99.0</td><td>190.0</td></tr><tr><td>3</td><td>7.491888</td><td>2.447647</td><td>2.309921</td><td>2.734319</td><td>20.866021</td><td>14.155736</td><td>0.73227</td><td>0.220978</td><td>0.240379</td><td>0.275125</td><td>32.260094</td><td>16.391827</td><td>1142.0</td><td>82.0</td><td>216.0</td></tr><tr><td>4</td><td>8.169442</td><td>2.626548</td><td>2.544589</td><td>2.998291</td><td>84.76465</td><td>55.941732</td><td>0.73227</td><td>0.220978</td><td>0.240379</td><td>0.275125</td><td>32.260094</td><td>16.391827</td><td>713.0</td><td>75.5</td><td>126.5</td></tr><tr><td>5</td><td>5.944157</td><td>1.964738</td><td>1.819807</td><td>2.159602</td><td>109.711857</td><td>48.456751</td><td>0.73227</td><td>0.220978</td><td>0.240379</td><td>0.275125</td><td>32.260094</td><td>16.391827</td><td>1054.483333</td><td>63.0</td><td>132.0</td></tr><tr><td>6</td><td>7.773369</td><td>2.501676</td><td>2.373227</td><td>2.898456</td><td>92.072403</td><td>56.236562</td><td>0.73227</td><td>0.220978</td><td>0.240379</td><td>0.275125</td><td>32.260094</td><td>16.391827</td><td>1106.0</td><td>112.0</td><td>222.0</td></tr><tr><td>7</td><td>6.949924</td><td>2.261616</td><td>2.109596</td><td>2.578694</td><td>63.207146</td><td>36.071313</td><td>0.73227</td><td>0.220978</td><td>0.240379</td><td>0.275125</td><td>32.260094</td><td>16.391827</td><td>1168.0</td><td>90.0</td><td>182.0</td></tr></tbody></table></div>"
      ],
      "text/plain": [
       "shape: (7, 16)\n",
       "┌──────────┬───────────┬───────────┬───────────┬───┬───────────┬───────────┬───────────┬───────────┐\n",
       "│ PAXDAYWM ┆ PAXMTSM_M ┆ PAXMXM_Me ┆ PAXMYM_Me ┆ … ┆ PAXLXSDM_ ┆ Sedentary ┆ Light_Act ┆ Moderate_ │\n",
       "│ ---      ┆ ean       ┆ an        ┆ an        ┆   ┆ Std_acros ┆ _Activity ┆ ivity     ┆ Vigorous_ │\n",
       "│ i64      ┆ ---       ┆ ---       ┆ ---       ┆   ┆ s_day     ┆ (minutes) ┆ (minutes) ┆ Activity  │\n",
       "│          ┆ f64       ┆ f64       ┆ f64       ┆   ┆ ---       ┆ ---       ┆ ---       ┆ (minu…    │\n",
       "│          ┆           ┆           ┆           ┆   ┆ f64       ┆ f64       ┆ f64       ┆ ---       │\n",
       "│          ┆           ┆           ┆           ┆   ┆           ┆           ┆           ┆ f64       │\n",
       "╞══════════╪═══════════╪═══════════╪═══════════╪═══╪═══════════╪═══════════╪═══════════╪═══════════╡\n",
       "│ 1        ┆ 7.041083  ┆ 2.259839  ┆ 2.116431  ┆ … ┆ 16.391827 ┆ 1192.0    ┆ 85.0      ┆ 163.0     │\n",
       "│ 2        ┆ 7.715472  ┆ 2.495824  ┆ 2.389937  ┆ … ┆ 16.391827 ┆ 1151.0    ┆ 99.0      ┆ 190.0     │\n",
       "│ 3        ┆ 7.491888  ┆ 2.447647  ┆ 2.309921  ┆ … ┆ 16.391827 ┆ 1142.0    ┆ 82.0      ┆ 216.0     │\n",
       "│ 4        ┆ 8.169442  ┆ 2.626548  ┆ 2.544589  ┆ … ┆ 16.391827 ┆ 713.0     ┆ 75.5      ┆ 126.5     │\n",
       "│ 5        ┆ 5.944157  ┆ 1.964738  ┆ 1.819807  ┆ … ┆ 16.391827 ┆ 1054.4833 ┆ 63.0      ┆ 132.0     │\n",
       "│          ┆           ┆           ┆           ┆   ┆           ┆ 33        ┆           ┆           │\n",
       "│ 6        ┆ 7.773369  ┆ 2.501676  ┆ 2.373227  ┆ … ┆ 16.391827 ┆ 1106.0    ┆ 112.0     ┆ 222.0     │\n",
       "│ 7        ┆ 6.949924  ┆ 2.261616  ┆ 2.109596  ┆ … ┆ 16.391827 ┆ 1168.0    ┆ 90.0      ┆ 182.0     │\n",
       "└──────────┴───────────┴───────────┴───────────┴───┴───────────┴───────────┴───────────┴───────────┘"
      ]
     },
     "metadata": {},
     "output_type": "display_data"
    }
   ],
   "source": [
    "for csv_file in csv_files:\n",
    "    df = pl.read_csv(csv_path + csv_file)\n",
    "    # Extract Features for each df\n",
    "    seqn = df['SEQN'][1]\n",
    "    simple_stat_df = simple_stat(df)\n",
    "    average_df = average_stat(df)\n",
    "    act_lv_df = act_lv(df)\n",
    "    final_df = average_df.join(act_lv_df, on='PAXDAYWM')\n",
    "\n",
    "print(f\"SEQN: {seqn}\")\n",
    "print(\"\")\n",
    "display(simple_stat_df)\n",
    "print(\"\")\n",
    "display(final_df)"
   ]
  },
  {
   "cell_type": "code",
   "execution_count": null,
   "metadata": {},
   "outputs": [],
   "source": []
  }
 ],
 "metadata": {
  "kernelspec": {
   "display_name": "Python 3",
   "language": "python",
   "name": "python3"
  },
  "language_info": {
   "codemirror_mode": {
    "name": "ipython",
    "version": 3
   },
   "file_extension": ".py",
   "mimetype": "text/x-python",
   "name": "python",
   "nbconvert_exporter": "python",
   "pygments_lexer": "ipython3",
   "version": "3.11.6"
  }
 },
 "nbformat": 4,
 "nbformat_minor": 2
}
